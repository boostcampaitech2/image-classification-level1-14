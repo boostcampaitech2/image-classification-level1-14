{
 "cells": [
  {
   "cell_type": "code",
   "execution_count": 201,
   "id": "7f4b03e4-8698-43ed-b1b6-b2a968cffedf",
   "metadata": {},
   "outputs": [],
   "source": [
    "import utils"
   ]
  },
  {
   "cell_type": "code",
   "execution_count": 202,
   "id": "4f1d3ad6-a83d-49b8-806f-f382087a436b",
   "metadata": {},
   "outputs": [],
   "source": [
    "data = utils.get_labels_and_img_paths('all')\n",
    "labels, paths = data"
   ]
  },
  {
   "cell_type": "code",
   "execution_count": 203,
   "id": "4ecb161a-8f95-4390-8227-46f48879b0e0",
   "metadata": {},
   "outputs": [
    {
     "data": {
      "text/plain": [
       "(18900, 18900)"
      ]
     },
     "execution_count": 203,
     "metadata": {},
     "output_type": "execute_result"
    }
   ],
   "source": [
    "len(labels), len(paths)"
   ]
  },
  {
   "cell_type": "code",
   "execution_count": 204,
   "id": "25f73b5f-24a1-4205-a01f-6353abe78824",
   "metadata": {},
   "outputs": [],
   "source": [
    "import pandas as pd"
   ]
  },
  {
   "cell_type": "code",
   "execution_count": 205,
   "id": "0d24cdb0-66a1-45c7-b51c-3ab0353f1b32",
   "metadata": {},
   "outputs": [
    {
     "data": {
      "text/html": [
       "<div>\n",
       "<style scoped>\n",
       "    .dataframe tbody tr th:only-of-type {\n",
       "        vertical-align: middle;\n",
       "    }\n",
       "\n",
       "    .dataframe tbody tr th {\n",
       "        vertical-align: top;\n",
       "    }\n",
       "\n",
       "    .dataframe thead th {\n",
       "        text-align: right;\n",
       "    }\n",
       "</style>\n",
       "<table border=\"1\" class=\"dataframe\">\n",
       "  <thead>\n",
       "    <tr style=\"text-align: right;\">\n",
       "      <th></th>\n",
       "      <th>labels</th>\n",
       "      <th>paths</th>\n",
       "    </tr>\n",
       "  </thead>\n",
       "  <tbody>\n",
       "    <tr>\n",
       "      <th>0</th>\n",
       "      <td>4</td>\n",
       "      <td>/opt/ml/input/data/train/images/000001_female_...</td>\n",
       "    </tr>\n",
       "    <tr>\n",
       "      <th>1</th>\n",
       "      <td>4</td>\n",
       "      <td>/opt/ml/input/data/train/images/000001_female_...</td>\n",
       "    </tr>\n",
       "    <tr>\n",
       "      <th>2</th>\n",
       "      <td>4</td>\n",
       "      <td>/opt/ml/input/data/train/images/000001_female_...</td>\n",
       "    </tr>\n",
       "    <tr>\n",
       "      <th>3</th>\n",
       "      <td>4</td>\n",
       "      <td>/opt/ml/input/data/train/images/000001_female_...</td>\n",
       "    </tr>\n",
       "    <tr>\n",
       "      <th>4</th>\n",
       "      <td>4</td>\n",
       "      <td>/opt/ml/input/data/train/images/000001_female_...</td>\n",
       "    </tr>\n",
       "    <tr>\n",
       "      <th>...</th>\n",
       "      <td>...</td>\n",
       "      <td>...</td>\n",
       "    </tr>\n",
       "    <tr>\n",
       "      <th>18895</th>\n",
       "      <td>0</td>\n",
       "      <td>/opt/ml/input/data/train/images/006959_male_As...</td>\n",
       "    </tr>\n",
       "    <tr>\n",
       "      <th>18896</th>\n",
       "      <td>0</td>\n",
       "      <td>/opt/ml/input/data/train/images/006959_male_As...</td>\n",
       "    </tr>\n",
       "    <tr>\n",
       "      <th>18897</th>\n",
       "      <td>0</td>\n",
       "      <td>/opt/ml/input/data/train/images/006959_male_As...</td>\n",
       "    </tr>\n",
       "    <tr>\n",
       "      <th>18898</th>\n",
       "      <td>6</td>\n",
       "      <td>/opt/ml/input/data/train/images/006959_male_As...</td>\n",
       "    </tr>\n",
       "    <tr>\n",
       "      <th>18899</th>\n",
       "      <td>12</td>\n",
       "      <td>/opt/ml/input/data/train/images/006959_male_As...</td>\n",
       "    </tr>\n",
       "  </tbody>\n",
       "</table>\n",
       "<p>18900 rows × 2 columns</p>\n",
       "</div>"
      ],
      "text/plain": [
       "       labels                                              paths\n",
       "0           4  /opt/ml/input/data/train/images/000001_female_...\n",
       "1           4  /opt/ml/input/data/train/images/000001_female_...\n",
       "2           4  /opt/ml/input/data/train/images/000001_female_...\n",
       "3           4  /opt/ml/input/data/train/images/000001_female_...\n",
       "4           4  /opt/ml/input/data/train/images/000001_female_...\n",
       "...       ...                                                ...\n",
       "18895       0  /opt/ml/input/data/train/images/006959_male_As...\n",
       "18896       0  /opt/ml/input/data/train/images/006959_male_As...\n",
       "18897       0  /opt/ml/input/data/train/images/006959_male_As...\n",
       "18898       6  /opt/ml/input/data/train/images/006959_male_As...\n",
       "18899      12  /opt/ml/input/data/train/images/006959_male_As...\n",
       "\n",
       "[18900 rows x 2 columns]"
      ]
     },
     "execution_count": 205,
     "metadata": {},
     "output_type": "execute_result"
    }
   ],
   "source": [
    "df = pd.DataFrame({\"labels\" : labels, \"paths\":paths})\n",
    "df"
   ]
  },
  {
   "cell_type": "code",
   "execution_count": 206,
   "id": "417be49b-466b-4f81-b0eb-127ef2b417ad",
   "metadata": {},
   "outputs": [
    {
     "data": {
      "text/plain": [
       "4     4085\n",
       "3     3660\n",
       "0     2745\n",
       "1     2050\n",
       "16     817\n",
       "10     817\n",
       "15     732\n",
       "9      732\n",
       "12     549\n",
       "6      549\n",
       "5      545\n",
       "2      415\n",
       "7      410\n",
       "13     410\n",
       "11     109\n",
       "17     109\n",
       "8       83\n",
       "14      83\n",
       "Name: labels, dtype: int64"
      ]
     },
     "execution_count": 206,
     "metadata": {},
     "output_type": "execute_result"
    }
   ],
   "source": [
    "label_counts = df.labels.value_counts()\n",
    "\n",
    "label_counts"
   ]
  },
  {
   "cell_type": "code",
   "execution_count": 207,
   "id": "6da2ffb1-edbd-4598-a6bb-92c4a4ba673e",
   "metadata": {},
   "outputs": [
    {
     "data": {
      "text/plain": [
       "Int64Index([4, 3, 0, 1, 16, 10, 15, 9, 12, 6, 5, 2, 7, 13, 11, 17, 8, 14], dtype='int64')"
      ]
     },
     "execution_count": 207,
     "metadata": {},
     "output_type": "execute_result"
    }
   ],
   "source": [
    "target = label_counts.index\n",
    "target"
   ]
  },
  {
   "cell_type": "code",
   "execution_count": 208,
   "id": "b5abdf31-4add-44e5-8045-69dce26ed990",
   "metadata": {},
   "outputs": [
    {
     "data": {
      "text/plain": [
       "18900"
      ]
     },
     "execution_count": 208,
     "metadata": {},
     "output_type": "execute_result"
    }
   ],
   "source": [
    "total = label_counts.sum()\n",
    "total"
   ]
  },
  {
   "cell_type": "code",
   "execution_count": 209,
   "id": "082bc775-38b3-46d1-ae1c-25ebf0ec4409",
   "metadata": {},
   "outputs": [
    {
     "data": {
      "text/plain": [
       "[0.25703794369645044,\n",
       " 0.28688524590163933,\n",
       " 0.3825136612021858,\n",
       " 0.5121951219512195,\n",
       " 1.285189718482252,\n",
       " 1.285189718482252,\n",
       " 1.4344262295081966,\n",
       " 1.4344262295081966,\n",
       " 1.9125683060109289,\n",
       " 1.9125683060109289,\n",
       " 1.926605504587156,\n",
       " 2.5301204819277108,\n",
       " 2.5609756097560976,\n",
       " 2.5609756097560976,\n",
       " 9.63302752293578,\n",
       " 9.63302752293578,\n",
       " 12.650602409638553,\n",
       " 12.650602409638553]"
      ]
     },
     "execution_count": 209,
     "metadata": {},
     "output_type": "execute_result"
    }
   ],
   "source": [
    "# wj=n_samples / (n_classes * n_samplesj)\n",
    "\n",
    "w = []\n",
    "for i in label_counts:\n",
    "    w.append(total / (18 * i))\n",
    "w"
   ]
  },
  {
   "cell_type": "code",
   "execution_count": 225,
   "id": "a3f5a7ff-fc6c-46d8-80c4-0403e7d9a9b6",
   "metadata": {},
   "outputs": [
    {
     "data": {
      "text/plain": [
       "[0.3825136612021858,\n",
       " 0.5121951219512195,\n",
       " 2.5301204819277108,\n",
       " 0.28688524590163933,\n",
       " 0.25703794369645044,\n",
       " 1.926605504587156,\n",
       " 1.9125683060109289,\n",
       " 2.5609756097560976,\n",
       " 12.650602409638553,\n",
       " 1.4344262295081966,\n",
       " 1.285189718482252,\n",
       " 9.63302752293578,\n",
       " 1.9125683060109289,\n",
       " 2.5609756097560976,\n",
       " 12.650602409638553,\n",
       " 1.4344262295081966,\n",
       " 1.285189718482252,\n",
       " 9.63302752293578]"
      ]
     },
     "execution_count": 225,
     "metadata": {},
     "output_type": "execute_result"
    }
   ],
   "source": [
    "weighted = pd.DataFrame({'label':target, 'w':w})\n",
    "weighted = weighted.set_index('label')\n",
    "weighted = weighted.sort_index()\n",
    "weighted.w.tolist()"
   ]
  },
  {
   "cell_type": "code",
   "execution_count": 218,
   "id": "b815ecb4-7d28-4ea6-a58b-915a219d50e8",
   "metadata": {},
   "outputs": [
    {
     "data": {
      "text/plain": [
       "<bound method DataFrame.sort_index of     label          w\n",
       "0       4   0.257038\n",
       "1       3   0.286885\n",
       "2       0   0.382514\n",
       "3       1   0.512195\n",
       "4      16   1.285190\n",
       "5      10   1.285190\n",
       "6      15   1.434426\n",
       "7       9   1.434426\n",
       "8      12   1.912568\n",
       "9       6   1.912568\n",
       "10      5   1.926606\n",
       "11      2   2.530120\n",
       "12      7   2.560976\n",
       "13     13   2.560976\n",
       "14     11   9.633028\n",
       "15     17   9.633028\n",
       "16      8  12.650602\n",
       "17     14  12.650602>"
      ]
     },
     "execution_count": 218,
     "metadata": {},
     "output_type": "execute_result"
    }
   ],
   "source": []
  },
  {
   "cell_type": "code",
   "execution_count": null,
   "id": "d0be1a45-6d61-4adc-a0ae-8337308adab6",
   "metadata": {},
   "outputs": [],
   "source": [
    "' '.join(str(w) for w in weightes.tolist())"
   ]
  },
  {
   "cell_type": "markdown",
   "id": "4561f562-f44c-42b1-9b32-e81addedc7cd",
   "metadata": {},
   "source": [
    "py에 들어가 있는 코드"
   ]
  },
  {
   "cell_type": "code",
   "execution_count": 228,
   "id": "d8907c50-022a-4121-88f2-56b4c5a5a761",
   "metadata": {},
   "outputs": [
    {
     "data": {
      "text/plain": [
       "[0.3825136612021858,\n",
       " 0.5121951219512195,\n",
       " 2.5301204819277108,\n",
       " 0.28688524590163933,\n",
       " 0.25703794369645044,\n",
       " 1.926605504587156,\n",
       " 1.9125683060109289,\n",
       " 2.5609756097560976,\n",
       " 12.650602409638553,\n",
       " 1.4344262295081966,\n",
       " 1.285189718482252,\n",
       " 9.63302752293578,\n",
       " 1.9125683060109289,\n",
       " 2.5609756097560976,\n",
       " 12.650602409638553,\n",
       " 1.4344262295081966,\n",
       " 1.285189718482252,\n",
       " 9.63302752293578]"
      ]
     },
     "execution_count": 228,
     "metadata": {},
     "output_type": "execute_result"
    }
   ],
   "source": [
    "from utils import get_labels_and_img_paths\n",
    "size = 'all'\n",
    "data = get_labels_and_img_paths(size)\n",
    "labels, paths = data\n",
    "df = pd.DataFrame({\"labels\" : labels, \"paths\":paths})\n",
    "label_counts = df.labels.value_counts()\n",
    "target = label_counts.index\n",
    "total = label_counts.sum()\n",
    "\n",
    "# wj=n_samples / (n_classes * n_samplesj)\n",
    "\n",
    "w = []\n",
    "for i in label_counts:\n",
    "    w.append(total / (18 * i))\n",
    "\n",
    "weighted = pd.DataFrame({'label':target, 'w':w})\n",
    "weighted = weighted.set_index('label')\n",
    "weighted = weighted.sort_index()\n",
    "weights = weighted.w.tolist()    \n",
    "    \n",
    "weights"
   ]
  },
  {
   "cell_type": "code",
   "execution_count": null,
   "id": "0f504da1-9a55-48ea-908c-39ac3cf94593",
   "metadata": {},
   "outputs": [],
   "source": []
  }
 ],
 "metadata": {
  "kernelspec": {
   "display_name": "Python 3 (ipykernel)",
   "language": "python",
   "name": "python3"
  },
  "language_info": {
   "codemirror_mode": {
    "name": "ipython",
    "version": 3
   },
   "file_extension": ".py",
   "mimetype": "text/x-python",
   "name": "python",
   "nbconvert_exporter": "python",
   "pygments_lexer": "ipython3",
   "version": "3.8.5"
  }
 },
 "nbformat": 4,
 "nbformat_minor": 5
}
